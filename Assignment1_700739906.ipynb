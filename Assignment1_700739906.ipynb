{
  "nbformat": 4,
  "nbformat_minor": 0,
  "metadata": {
    "colab": {
      "provenance": []
    },
    "kernelspec": {
      "name": "python3",
      "display_name": "Python 3"
    },
    "language_info": {
      "name": "python"
    }
  },
  "cells": [
    {
      "cell_type": "code",
      "execution_count": null,
      "metadata": {
        "id": "essrxqYhfsv3"
      },
      "outputs": [],
      "source": []
    },
    {
      "cell_type": "markdown",
      "source": [
        "Write a python program for the following:"
      ],
      "metadata": {
        "id": "LKh9parzgEJq"
      }
    },
    {
      "cell_type": "markdown",
      "source": [
        " Input the string “Python” as a list of characters from console, delete at least 2 characters, reversethe\n",
        "resultant string and print it.\n",
        "Sample input:\n",
        "•python\n",
        "•Sample output:\n",
        "•ntyp\n"
      ],
      "metadata": {
        "id": "MQCBTS36gT82"
      }
    },
    {
      "cell_type": "code",
      "source": [
        "\n",
        "input_string = input(\"Enter a string: \")\n",
        "char_list = list(input_string)\n",
        "\n",
        "if len(char_list) >= 2:\n",
        "    del char_list[-2:]\n",
        "    char_list.reverse()\n",
        "    result = ''.join(char_list)\n",
        "    print(\"Modified and reversed string:\", result)\n",
        "else:\n",
        "    print(\"String must have at least 2 characters to perform the operation.\")\n",
        "\n"
      ],
      "metadata": {
        "colab": {
          "base_uri": "https://localhost:8080/"
        },
        "id": "IqJkM1AIgE9I",
        "outputId": "771e41d7-0ce2-4329-87e3-bb296a653ce5"
      },
      "execution_count": 1,
      "outputs": [
        {
          "output_type": "stream",
          "name": "stdout",
          "text": [
            "Enter a string: python\n",
            "Modified and reversed string: htyp\n"
          ]
        }
      ]
    },
    {
      "cell_type": "code",
      "source": [
        "\n",
        "num1 = float(input(\"Enter the first number: \"))\n",
        "num2 = float(input(\"Enter the second number: \"))\n",
        "\n",
        "\n",
        "addition = num1 + num2\n",
        "subtraction = num1 - num2\n",
        "multiplication = num1 * num2\n",
        "\n",
        "\n",
        "if num2 != 0:\n",
        "    division = num1 / num2\n",
        "else:\n",
        "    division = \"Undefined (division by zero)\"\n",
        "\n",
        "print(\"Arithmetic Operations:\")\n",
        "print(\"Addition:\", addition)\n",
        "print(\"Subtraction:\", subtraction)\n",
        "print(\"Multiplication:\", multiplication)\n",
        "print(\"Division:\", division)"
      ],
      "metadata": {
        "colab": {
          "base_uri": "https://localhost:8080/"
        },
        "id": "ChvZMDXCg2DA",
        "outputId": "5b6c4226-d65c-40dc-a2f0-62b2c4f9b30e"
      },
      "execution_count": 2,
      "outputs": [
        {
          "output_type": "stream",
          "name": "stdout",
          "text": [
            "Enter the first number: 11\n",
            "Enter the second number: 12\n",
            "Arithmetic Operations:\n",
            "Addition: 23.0\n",
            "Subtraction: -1.0\n",
            "Multiplication: 132.0\n",
            "Division: 0.9166666666666666\n"
          ]
        }
      ]
    },
    {
      "cell_type": "markdown",
      "source": [
        "Write a program that accepts a sentence and replace each occurrence of ‘python’ with ‘pythons’.\n"
      ],
      "metadata": {
        "id": "FrRw1JyaiBD3"
      }
    },
    {
      "cell_type": "code",
      "source": [
        "def replace_python(sentence):\n",
        "    replaced_sentence = sentence.replace(\"python\", \"pythons\")\n",
        "    return replaced_sentence\n",
        "\n",
        "input_sentence = input(\"Enter a sentence: \")\n",
        "modified_sentence = replace_python(input_sentence)\n",
        "print(\"Modified sentence:\", modified_sentence)\n"
      ],
      "metadata": {
        "colab": {
          "base_uri": "https://localhost:8080/"
        },
        "id": "0NcryBDRiOll",
        "outputId": "b33c67e5-d954-4e74-ea16-9486bf6ae3f6"
      },
      "execution_count": 3,
      "outputs": [
        {
          "output_type": "stream",
          "name": "stdout",
          "text": [
            "Enter a sentence: python\n",
            "Modified sentence: pythons\n"
          ]
        }
      ]
    },
    {
      "cell_type": "markdown",
      "source": [
        "Use the if statement conditions to write a program to print the letter grade based on an input class score. Use the\n",
        "grading scheme we are using in this class."
      ],
      "metadata": {
        "id": "Bo2FXZKwj0Gj"
      }
    },
    {
      "cell_type": "code",
      "source": [
        "def calculate_class_grade(score):\n",
        "    if score >= 90:\n",
        "        return \"A\"\n",
        "    elif score >= 80:\n",
        "        return \"B\"\n",
        "    elif score >= 70:\n",
        "        return \"C\"\n",
        "    elif score >= 60:\n",
        "        return \"D\"\n",
        "    else:\n",
        "        return \"F\"\n",
        "\n",
        "try:\n",
        "    class_score = float(input(\"Enter the class score: \"))\n",
        "    if 0 <= class_score <= 100:\n",
        "        letter_grade = calculate_class_grade(class_score)\n",
        "        print(\"The letter grade for the score {:.2f} is: {}\".format(class_score, letter_grade))\n",
        "    else:\n",
        "        print(\"Invalid score. Please enter a score between 0 and 100.\")\n",
        "except ValueError:\n",
        "    print(\"Invalid input. Please enter a valid number.\")\n"
      ],
      "metadata": {
        "colab": {
          "base_uri": "https://localhost:8080/"
        },
        "id": "XT5kYBD0j1-z",
        "outputId": "c581865f-e32f-47d8-ea57-c3ae0694f81f"
      },
      "execution_count": 4,
      "outputs": [
        {
          "output_type": "stream",
          "name": "stdout",
          "text": [
            "Enter the class score: 90\n",
            "The letter grade for the score 90.00 is: A\n"
          ]
        }
      ]
    }
  ]
}